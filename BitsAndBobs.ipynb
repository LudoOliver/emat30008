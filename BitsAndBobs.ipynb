{
 "cells": [
  {
   "cell_type": "markdown",
   "metadata": {},
   "source": [
    "# Code That was too good to not have about\n",
    "## 1c"
   ]
  },
  {
   "cell_type": "code",
   "execution_count": null,
   "metadata": {},
   "outputs": [],
   "source": [
    "B = 2.5789473684210527\n",
    "ICs = RevSolnSpace[-1,:]\n",
    "Bn = RevParamSpace[-1]\n",
    "FIxedAtBn = lambda x,t : Bruselator(x,t,B=Bn)\n",
    "TimeSpan = (0,ICs[-1]*2)\n",
    "SolnX,SolnTime = ODESolver.Solve_to(FIxedAtBn ,ICs[:-1],TimeSpan,DeltaTMax=0.0001)\n",
    "plt.plot(SolnX[0,:],SolnX[1,:])\n",
    "plt.scatter(SolnX[0,0],SolnX[1,0])\n",
    "plt.xlim((0,4))\n",
    "plt.ylim((0,4))\n",
    "plt.grid()\n",
    "print(ICs)\n",
    "x= SolnX[0,:]\n",
    "print(x.max()-x.min())"
   ]
  }
 ],
 "metadata": {
  "kernelspec": {
   "display_name": "Python 3",
   "language": "python",
   "name": "python3"
  },
  "language_info": {
   "name": "python",
   "version": "3.12.2"
  }
 },
 "nbformat": 4,
 "nbformat_minor": 2
}
